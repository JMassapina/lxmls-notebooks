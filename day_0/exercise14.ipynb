{
 "cells": [
  {
   "cell_type": "markdown",
   "metadata": {},
   "source": [
    "# Day 0\n",
    "## Exercise 0.14"
   ]
  },
  {
   "cell_type": "markdown",
   "metadata": {},
   "source": [
    "Consider the linear regression problem (ordinary least squares) on the Galton dataset, with a single response variable\n",
    "$$\n",
    "y = \\textbf{x}^T\\textbf{w} + \\epsilon\n",
    "$$\n",
    "\n",
    "This is a general problem where\n",
    "\n",
    "- $\\textbf{x}$ is a $D$ dimensional vector\n",
    "- $y$ is a scalar\n",
    "\n",
    "\n",
    "The linear regression problem is, given a set \n",
    "$$\n",
    "\\{y^{(m)}\\}_{m=1}^M\n",
    "$$\n",
    "\n",
    "of samples of $y$ and the corresponding $\\textbf{x}^{(m)}$ vectors, estimate $\\textbf{w}$ to minimise the sum of the $\\epsilon$ variables. \n",
    "\n",
    "Traditionally this is solved analytically to obtain a closed form solution. Although this is not the way in which it should be computed in this exercise, linear algebra packages have an optimised solver, e.g. numpy.linalg.lstsq.\n",
    "\n",
    "We can code the prediction of our linear model using a dot product already implemented\n",
    "in ```np.dot```. In order to do it we can append a column full of ones. \n",
    "\n",
    "#### Notes about the implementation for the galton dataset\n",
    "- We want to model son heights from father heights.\n",
    "\n",
    "\n",
    "- We will denote the data that has the mentioned appended column as ```ones_X```\n",
    "    - ```ones_X.shape``` should have shape ```(928, 2)```\n",
    "\n",
    "\n",
    "- ```ones_x``` will denote a single row of ```ones_X``` which is a $D+1$ dimensional vector\n",
    "  - Notice that ```ones_x``` can be any for of ```ones_X```, for example the k'th row ```\n",
    "  ones_X[k]```.\n",
    "  - It is very important to understand the difference between  ```\n",
    "  ones_X[k]``` and ```ones_X[k:k+1]```. \n",
    "      - ```ones_X[k]``` has ndim 1\n",
    "      - ```ones_X[k:k+1]``` has ndim 2\n",
    "   \n",
    "   \n",
    "- $y$ is a scalar\n",
    "\n",
    "\n"
   ]
  },
  {
   "cell_type": "code",
   "execution_count": 1,
   "metadata": {
    "collapsed": true
   },
   "outputs": [],
   "source": [
    "%matplotlib inline\n",
    "%load_ext autoreload\n",
    "%autoreload 2\n",
    "\n",
    "import sys\n",
    "import numpy as np\n",
    "sys.path.append(\"../../lxmls-toolkit/\")\n",
    "import matplotlib.pyplot as plt\n",
    "\n",
    "import lxmls\n",
    "import lxmls.readers.galton as galton"
   ]
  },
  {
   "cell_type": "code",
   "execution_count": 2,
   "metadata": {
    "collapsed": true
   },
   "outputs": [],
   "source": [
    "galton_data = galton.load()"
   ]
  },
  {
   "cell_type": "code",
   "execution_count": 3,
   "metadata": {
    "collapsed": true
   },
   "outputs": [],
   "source": [
    "father_height = galton_data[:,0].reshape((len(galton_data),1))\n",
    "son_height = galton_data[:,1].reshape((len(galton_data),1))"
   ]
  },
  {
   "cell_type": "code",
   "execution_count": 4,
   "metadata": {},
   "outputs": [
    {
     "data": {
      "text/plain": [
       "((928, 1), (928, 1))"
      ]
     },
     "execution_count": 4,
     "metadata": {},
     "output_type": "execute_result"
    }
   ],
   "source": [
    "father_height.shape, son_height.shape"
   ]
  },
  {
   "cell_type": "markdown",
   "metadata": {},
   "source": [
    "#### Append the column full of ones for the bias term"
   ]
  },
  {
   "cell_type": "code",
   "execution_count": 5,
   "metadata": {
    "collapsed": true
   },
   "outputs": [],
   "source": [
    "ones_X = np.hstack((father_height, np.ones((father_height.shape[0],1))))"
   ]
  },
  {
   "cell_type": "code",
   "execution_count": 6,
   "metadata": {},
   "outputs": [
    {
     "data": {
      "text/plain": [
       "(928, 2)"
      ]
     },
     "execution_count": 6,
     "metadata": {},
     "output_type": "execute_result"
    }
   ],
   "source": [
    "ones_X.shape"
   ]
  },
  {
   "cell_type": "code",
   "execution_count": 7,
   "metadata": {},
   "outputs": [
    {
     "data": {
      "text/plain": [
       "array([[ 70.5,   1. ],\n",
       "       [ 68.5,   1. ],\n",
       "       [ 65.5,   1. ],\n",
       "       ..., \n",
       "       [ 69.5,   1. ],\n",
       "       [ 69.5,   1. ],\n",
       "       [ 69.5,   1. ]])"
      ]
     },
     "execution_count": 7,
     "metadata": {},
     "output_type": "execute_result"
    }
   ],
   "source": [
    "ones_X"
   ]
  },
  {
   "cell_type": "code",
   "execution_count": 8,
   "metadata": {
    "collapsed": true
   },
   "outputs": [],
   "source": [
    "Y = son_height"
   ]
  },
  {
   "cell_type": "markdown",
   "metadata": {},
   "source": [
    "#### 0. Complete the function that produces the predictions for a given observation and a set of weights $w_j$ "
   ]
  },
  {
   "cell_type": "code",
   "execution_count": 9,
   "metadata": {
    "collapsed": true
   },
   "outputs": [],
   "source": [
    "def predict(X, w):\n",
    "    return np.dot(X, w)"
   ]
  },
  {
   "cell_type": "markdown",
   "metadata": {},
   "source": [
    "#### Predicting using the linear model\n",
    "\n",
    "\n",
    "Let us assume we have a dataset with\n",
    "\n",
    "- $M$ datapoints (number of rows).\n",
    "- $D$ features (number of columns)\n",
    "\n",
    "In order to do this exercise we will add a column full of ones at position 0 and get a $M \\times (D+1)$.\n",
    "\n",
    "The predict function will return the prediction of the linear model given\n",
    "\n",
    "- An input which can be \n",
    "    - A single $ (D+1) \\times 1$ row vector\n",
    "    - A matrix of the form $batch \\times (D+1)$ where $batch$ is the number of rows in the matrix.\n",
    "    \n",
    "- A vector of weights of size $D$\n",
    "\n",
    "Notice that we have created a new column full of ones  to take into account the bias term of the regressor.\n",
    "\n"
   ]
  },
  {
   "cell_type": "code",
   "execution_count": 10,
   "metadata": {},
   "outputs": [
    {
     "data": {
      "text/plain": [
       "array([[ 70.5,   1. ],\n",
       "       [ 68.5,   1. ],\n",
       "       [ 65.5,   1. ],\n",
       "       ..., \n",
       "       [ 69.5,   1. ],\n",
       "       [ 69.5,   1. ],\n",
       "       [ 69.5,   1. ]])"
      ]
     },
     "execution_count": 10,
     "metadata": {},
     "output_type": "execute_result"
    }
   ],
   "source": [
    "ones_X"
   ]
  },
  {
   "cell_type": "code",
   "execution_count": 11,
   "metadata": {},
   "outputs": [
    {
     "name": "stdout",
     "output_type": "stream",
     "text": [
      "\n",
      "test passed: your predict function seems to be OK \n"
     ]
    }
   ],
   "source": [
    "### test\n",
    "\n",
    "# these are the gold outputs - we should get this from the predict function\n",
    "# for the first 3 items\n",
    "y_hat_3  = np.array([[ 49.38721692], \n",
    "                     [ 47.99427855],\n",
    "                     [ 45.90487099]])\n",
    "\n",
    "# let's see if that is the case\n",
    "np.random.seed(123)\n",
    "w = np.random.random((2,1))\n",
    "\n",
    "if np.linalg.norm(y_hat_3 - predict(ones_X[0:3], w)) < 0.00001:\n",
    "    print(\"\\ntest passed: your predict function seems to be OK \")\n",
    "else:\n",
    "    print(\"\\ntest failed\")\n"
   ]
  },
  {
   "cell_type": "markdown",
   "metadata": {},
   "source": [
    "##### 1. Complete the function that compute the cost function for a given set of data and weights of the linear model \n"
   ]
  },
  {
   "cell_type": "code",
   "execution_count": 12,
   "metadata": {
    "collapsed": true
   },
   "outputs": [],
   "source": [
    "def compute_cost(Y, Y_hat):\n",
    "    \"\"\"MSE\"\"\"\n",
    "    return np.mean((Y_hat-Y)**2)\n",
    "\n",
    "def predict_and_compute_cost(x, y, w):\n",
    "    \"\"\"MSE\"\"\"\n",
    "    predictions = predict(x, w)\n",
    "    cost = np.mean((predictions-y)**2)\n",
    "    return cost"
   ]
  },
  {
   "cell_type": "code",
   "execution_count": 13,
   "metadata": {},
   "outputs": [
    {
     "name": "stdout",
     "output_type": "stream",
     "text": [
      "\n",
      "test passed: your cost function seems to be OK \n"
     ]
    }
   ],
   "source": [
    "### test cost function\n",
    "np.random.seed(123)\n",
    "w = np.random.random((2,1))\n",
    "\n",
    "Y_hat = predict(ones_X, w) \n",
    "\n",
    "if np.linalg.norm(compute_cost(Y_hat, Y) - 414.1714639196087)<0.00001:\n",
    "    print(\"\\ntest passed: your cost function seems to be OK \")\n",
    "else:\n",
    "    print(\"\\ntest failed\")\n"
   ]
  },
  {
   "cell_type": "markdown",
   "metadata": {},
   "source": [
    "##### 2. Derive the partial derivative of the error with respecto to a weight $w_j$ "
   ]
  },
  {
   "cell_type": "code",
   "execution_count": 14,
   "metadata": {
    "collapsed": true
   },
   "outputs": [],
   "source": [
    "def compute_partial_error_wrt_j(X, Y, weights, j):\n",
    "    return np.mean(2 * (predict(X, weights) - Y) * X[:, j])"
   ]
  },
  {
   "cell_type": "markdown",
   "metadata": {
    "collapsed": true
   },
   "source": [
    "## Optimizing weights using gradient descent"
   ]
  },
  {
   "cell_type": "code",
   "execution_count": 15,
   "metadata": {
    "collapsed": true
   },
   "outputs": [],
   "source": [
    "def compute_gradient(X, Y, weights):\n",
    "    if X.ndim == 1:\n",
    "        X = np.array([X])\n",
    "        \n",
    "    # assume rows in X are datapoints\n",
    "    num_features = X.shape[1]\n",
    "\n",
    "    grads = np.zeros((num_features, 1))\n",
    "    for j in range(num_features):\n",
    "        grads[j] = compute_partial_error_wrt_j(X, Y, weights, j)\n",
    "        \n",
    "    return grads"
   ]
  },
  {
   "cell_type": "markdown",
   "metadata": {},
   "source": [
    "### Gradient checking\n",
    "\n",
    "We want to ensure that the computation of the cost with respect to the weights is correct. \n",
    "\n",
    "We will build a function that \n",
    "\n",
    "- Takes as input a function ``func`` and a point where we will evaluate the gradient of ``func``.\n",
    "- Computes an approximation of the gradient of a given function\n"
   ]
  },
  {
   "cell_type": "code",
   "execution_count": 16,
   "metadata": {
    "collapsed": true
   },
   "outputs": [],
   "source": [
    "def compute_numerical_gradient(cost_func, w, x, y, eps = 0.000001):\n",
    "    \"\"\"\n",
    "    Compute the gradient of the func with respect to w.\n",
    "    The function returns a gradient vector of the same size as w\n",
    "    \"\"\"\n",
    "    dim = w.shape[0]\n",
    "    perturbation_vector = np.zeros(w.shape)\n",
    "    grads = np.zeros(w.shape)\n",
    "\n",
    "    for i in range(dim):\n",
    "        # perturbate the current dimension\n",
    "        perturbation_vector[i] = eps\n",
    "        \n",
    "        # compute the slope: (point+epsilon - point-epsilon)/2epsilon\n",
    "        err_a = cost_func(x, y, w + perturbation_vector)\n",
    "        err_b = cost_func(x, y, w - perturbation_vector)\n",
    "        partial_i = (err_a - err_b) / (2*eps)\n",
    "        perturbation_vector[i] = 0.\n",
    "        grads[i] = partial_i\n",
    "        \n",
    "    return grads"
   ]
  },
  {
   "cell_type": "code",
   "execution_count": 17,
   "metadata": {},
   "outputs": [
    {
     "name": "stdout",
     "output_type": "stream",
     "text": [
      "[[-2763.44623911]\n",
      " [  -40.45556255]]\n"
     ]
    }
   ],
   "source": [
    "num_features = ones_X.shape[1] \n",
    "np.random.seed(123)\n",
    "weights = np.random.random((num_features, 1))\n",
    "\n",
    "## grad using exact formula\n",
    "exact_gradient = compute_gradient(ones_X, son_height, weights)\n",
    "print(exact_gradient)"
   ]
  },
  {
   "cell_type": "code",
   "execution_count": 18,
   "metadata": {},
   "outputs": [
    {
     "name": "stdout",
     "output_type": "stream",
     "text": [
      "[[-2763.12598749]\n",
      " [  -40.45556258]]\n"
     ]
    }
   ],
   "source": [
    "num_features = ones_X.shape[1] \n",
    "np.random.seed(123)\n",
    "weights = np.random.random((num_features, 1))\n",
    "num_grad = compute_numerical_gradient(predict_and_compute_cost, weights, ones_X, son_height, eps=1e-6)\n",
    "print(num_grad)"
   ]
  },
  {
   "cell_type": "markdown",
   "metadata": {},
   "source": [
    "### Gradient descent"
   ]
  },
  {
   "cell_type": "code",
   "execution_count": 19,
   "metadata": {
    "collapsed": true
   },
   "outputs": [],
   "source": [
    "# given w_j\n",
    "def gradient_descent(num_iterations, X, Y, w, learning_rate=0.00001):\n",
    "    # add column full of ones to X this allow us to take into \n",
    "    # account an offset (or bias) term for the linear model\n",
    "    num_features = X.shape[1] \n",
    "    cost_evolution = []\n",
    "    \n",
    "    for it in range(num_iterations):\n",
    "        w = w - learning_rate * compute_gradient(X, Y, w)\n",
    "#         w = w - learning_rate * compute_numerical_gradient(predict_and_compute_cost, w, X, Y)\n",
    "        \n",
    "        Y_hat = predict(X, w)\n",
    "\n",
    "        cost = predict_and_compute_cost(X, Y, w)\n",
    "        cost_evolution.append(cost)\n",
    "        \n",
    "        sys.stdout.write(\"\\rw_hat \" + str(float(w[0]))[0:8] +\" \"+ str(float(w[1]))[0:8]+ \\\n",
    "                         \" cost iter \" +  str(it) + \" is: \" + str(cost)[0:5] )\n",
    "        sys.stdout.flush()\n",
    "        \n",
    "    return w, cost_evolution"
   ]
  },
  {
   "cell_type": "code",
   "execution_count": 20,
   "metadata": {
    "scrolled": false
   },
   "outputs": [
    {
     "name": "stdout",
     "output_type": "stream",
     "text": [
      "Initial weights: \n",
      " [[ 0.69646919]\n",
      " [ 0.28613933]]\n",
      "w_hat 0.992514 0.290473 cost iter 99 is: 5.382\n",
      "Final weights: \n",
      " [[ 0.99251457]\n",
      " [ 0.2904733 ]]\n",
      "\n",
      "LstSq solution:\n",
      " [[  0.64629058]\n",
      " [ 23.94153018]]\n",
      "SGD solution:\n",
      " [[ 0.99251457]\n",
      " [ 0.2904733 ]]\n"
     ]
    },
    {
     "data": {
      "image/png": "[encoded data removed]",
      "text/plain": [
       "<matplotlib.figure.Figure at 0x7f6c985f9d10>"
      ]
     },
     "metadata": {},
     "output_type": "display_data"
    }
   ],
   "source": [
    "# set initial weights\n",
    "np.random.seed(123)\n",
    "weights = np.random.random((num_features, 1))\n",
    "# weights[1] = 20.\n",
    "print(\"Initial weights: \\n {}\".format(weights))\n",
    "\n",
    "# optimize with SGD\n",
    "w_hat, cost_evolution = gradient_descent(100, ones_X, Y, weights, learning_rate = 0.00001)\n",
    "print(\"\\nFinal weights: \\n {}\".format(w_hat))\n",
    "\n",
    "# plot convergence\n",
    "plt.plot(cost_evolution)\n",
    "plt.title(\"Evolution of the error per epoch\")\n",
    "plt.ylabel(\"Error (MSE) value\")\n",
    "plt.xlabel(\"Epoch\")\n",
    "\n",
    "# get least-squares solution\n",
    "w_hat_lstsq = np.linalg.lstsq(a=ones_X, b=son_height)[0]\n",
    "print(\"\\nLstSq solution:\\n {}\".format(w_hat_lstsq))\n",
    "print(\"SGD solution:\\n {}\".format(w_hat))\n"
   ]
  },
  {
   "cell_type": "markdown",
   "metadata": {},
   "source": [
    "### Plotting the regression"
   ]
  },
  {
   "cell_type": "code",
   "execution_count": 21,
   "metadata": {},
   "outputs": [
    {
     "data": {
      "image/png": "[encoded data removed]",
      "text/plain": [
       "<matplotlib.figure.Figure at 0x7f6c6ecf1b10>"
      ]
     },
     "metadata": {},
     "output_type": "display_data"
    }
   ],
   "source": [
    "def plot_result(father_height, son_height):\n",
    "    plt.plot(father_height, son_height, \".\")\n",
    "    plt.title(\"We nailed it??\")\n",
    "    maxim, minim = int(np.max(father_height)), int(np.min(father_height))\n",
    "    xvals = [vec for vec in np.array(range(minim-1, maxim+1)) ]\n",
    "\n",
    "    # Gradient descent solution\n",
    "    yvals = [ w_hat[0] * xval + w_hat[1] for xval in xvals]\n",
    "\n",
    "    # solution from closed form\n",
    "    yvals2 = [ w_hat_lstsq[0]  * xval + w_hat_lstsq[1] for xval in xvals]\n",
    "\n",
    "    plt.plot(xvals, yvals, '--', c='k',linewidth=2)\n",
    "    plt.plot(xvals, yvals2, '--', c='r',linewidth=2)\n",
    "    \n",
    "plot_result(father_height, son_height)"
   ]
  },
  {
   "cell_type": "markdown",
   "metadata": {},
   "source": [
    "### Add jitter to  see points that are \"superposed\""
   ]
  },
  {
   "cell_type": "code",
   "execution_count": 22,
   "metadata": {},
   "outputs": [
    {
     "data": {
      "image/png": "[encoded data removed]",
      "text/plain": [
       "<matplotlib.figure.Figure at 0x7f6c70e4fb50>"
      ]
     },
     "metadata": {},
     "output_type": "display_data"
    }
   ],
   "source": [
    "father_height_jit = father_height + np.random.random(father_height.shape) / 2.\n",
    "son_height_jit = son_height + np.random.random(father_height.shape) / 2.\n",
    "plot_result(father_height_jit, son_height_jit)"
   ]
  },
  {
   "cell_type": "code",
   "execution_count": null,
   "metadata": {
    "collapsed": true
   },
   "outputs": [],
   "source": []
  }
 ],
 "metadata": {
  "kernelspec": {
   "display_name": "Python 2",
   "language": "python",
   "name": "python2"
  },
  "language_info": {
   "codemirror_mode": {
    "name": "ipython",
    "version": 2
   },
   "file_extension": ".py",
   "mimetype": "text/x-python",
   "name": "python",
   "nbconvert_exporter": "python",
   "pygments_lexer": "ipython2",
   "version": "2.7.13"
  }
 },
 "nbformat": 4,
 "nbformat_minor": 1
}
